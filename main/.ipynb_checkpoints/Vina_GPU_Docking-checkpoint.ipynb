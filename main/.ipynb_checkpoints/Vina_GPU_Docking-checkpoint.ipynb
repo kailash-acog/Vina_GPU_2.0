{
 "cells": [
  {
   "cell_type": "code",
   "execution_count": 1,
   "id": "f84c4465-39f3-42c8-9024-051d6ddfbb7a",
   "metadata": {},
   "outputs": [],
   "source": [
    "import re\n",
    "import torch\n",
    "import subprocess\n",
    "import pandas as pd\n",
    "import os"
   ]
  },
  {
   "cell_type": "markdown",
   "id": "4266e050-3b53-459f-ad60-8a7441050a80",
   "metadata": {},
   "source": [
    "#### Check GPU availability"
   ]
  },
  {
   "cell_type": "code",
   "execution_count": 2,
   "id": "17aed863-4113-47d4-8f77-71d7497a2b45",
   "metadata": {},
   "outputs": [
    {
     "name": "stdout",
     "output_type": "stream",
     "text": [
      "\u001b[1m\u001b[34mGPU availability in own1: \u001b[91m1%\u001b[0m\n"
     ]
    }
   ],
   "source": [
    "if \"CUDA_VISIBLE_DEVICES\" not in os.environ:\n",
    "    os.environ[\"CUDA_VISIBLE_DEVICES\"] = \"0\"\n",
    "\n",
    "if torch.cuda.is_available():\n",
    "    device = torch.device(\"cuda\")\n",
    "    gpu_info = os.popen('nvidia-smi --query-gpu=utilization.gpu --format=csv,noheader,nounits').readlines()\n",
    "    gpu_available = 100 - int(gpu_info[0].strip())\n",
    "    print(f\"\\033[1m\\033[34mGPU availability in own1: \\033[91m{gpu_available}%\\033[0m\")\n",
    "else:\n",
    "    device = torch.device(\"cpu\")\n",
    "    print('GPU is not available, using CPU instead')\n",
    "\n",
    "device = torch.device(\"cuda:0\" if torch.cuda.is_available() else \"cpu\")"
   ]
  },
  {
   "cell_type": "markdown",
   "id": "446f3b27-33ba-4a90-985f-d58cfd004f26",
   "metadata": {},
   "source": [
    "## Pass the Protein and Ligands directory "
   ]
  },
  {
   "cell_type": "code",
   "execution_count": 3,
   "id": "897842d2-1704-49c9-9c2a-ea3bd5e49649",
   "metadata": {},
   "outputs": [],
   "source": [
    "protein_path = \"aganitha_data/kif18a.pdbqt\"\n",
    "ligands_dir    = \"aganitha_data/bbio_mols_pdbqt\"\n",
    "\n",
    "output_file_path = 'aganitha_data/output.txt'\n",
    "with open(output_file_path, 'w') as output_file:\n",
    "    pass"
   ]
  },
  {
   "cell_type": "markdown",
   "id": "f281af6c-de60-4efa-9522-8c0583a824e3",
   "metadata": {},
   "source": [
    "## Execute Vina_GPU_2.0 Command"
   ]
  },
  {
   "cell_type": "code",
   "execution_count": 4,
   "id": "eb672534-bc10-4255-b3f1-2bb9a87ad048",
   "metadata": {},
   "outputs": [
    {
     "data": {
      "text/plain": [
       "CompletedProcess(args='../Vina-GPU --receptor aganitha_data/kif18a.pdbqt --ligand_directory aganitha_data/bbio_mols_pdbqt --center_x 130.64 --center_y 115.49 --center_z 131.85 --size_x 23.71 --size_y 23.22 --size_z 22.74 --thread 8000 > aganitha_data/output.txt', returncode=0)"
      ]
     },
     "execution_count": 4,
     "metadata": {},
     "output_type": "execute_result"
    }
   ],
   "source": [
    "command = (\n",
    "    f\"../Vina-GPU \"\n",
    "    f\"--receptor {protein_path} \"\n",
    "    f\"--ligand_directory {ligands_dir} \"\n",
    "    f\"--center_x 130.64 \"\n",
    "    f\"--center_y 115.49 \"\n",
    "    f\"--center_z 131.85 \"\n",
    "    f\"--size_x 23.71 \"\n",
    "    f\"--size_y 23.22 \"\n",
    "    f\"--size_z 22.74 \"\n",
    "    f\"--thread 8000 \"\n",
    "    f\"> {output_file_path}\"\n",
    ")\n",
    "\n",
    "subprocess.run(command, shell=True)"
   ]
  },
  {
   "cell_type": "markdown",
   "id": "a53a5ffa-b543-4603-99d2-1c922cab81b1",
   "metadata": {},
   "source": [
    "## Extract Rank 1 affinity values from the output"
   ]
  },
  {
   "cell_type": "code",
   "execution_count": 5,
   "id": "2bfb9c19-23f4-4d7b-84f1-c5d470755eaa",
   "metadata": {},
   "outputs": [
    {
     "data": {
      "text/html": [
       "<div>\n",
       "<style scoped>\n",
       "    .dataframe tbody tr th:only-of-type {\n",
       "        vertical-align: middle;\n",
       "    }\n",
       "\n",
       "    .dataframe tbody tr th {\n",
       "        vertical-align: top;\n",
       "    }\n",
       "\n",
       "    .dataframe thead th {\n",
       "        text-align: right;\n",
       "    }\n",
       "</style>\n",
       "<table border=\"1\" class=\"dataframe\">\n",
       "  <thead>\n",
       "    <tr style=\"text-align: right;\">\n",
       "      <th></th>\n",
       "      <th>Name</th>\n",
       "      <th>Affinity (kcal/mol)</th>\n",
       "    </tr>\n",
       "  </thead>\n",
       "  <tbody>\n",
       "    <tr>\n",
       "      <th>0</th>\n",
       "      <td>AGAN245-df-11-CN</td>\n",
       "      <td>-14.0</td>\n",
       "    </tr>\n",
       "    <tr>\n",
       "      <th>1</th>\n",
       "      <td>6</td>\n",
       "      <td>-13.4</td>\n",
       "    </tr>\n",
       "    <tr>\n",
       "      <th>2</th>\n",
       "      <td>AGAN 245-df-2-CN</td>\n",
       "      <td>-13.2</td>\n",
       "    </tr>\n",
       "    <tr>\n",
       "      <th>3</th>\n",
       "      <td>AGAN245-df-15-CN</td>\n",
       "      <td>-12.7</td>\n",
       "    </tr>\n",
       "    <tr>\n",
       "      <th>4</th>\n",
       "      <td>BB_43</td>\n",
       "      <td>-12.6</td>\n",
       "    </tr>\n",
       "    <tr>\n",
       "      <th>5</th>\n",
       "      <td>BB_36</td>\n",
       "      <td>-12.4</td>\n",
       "    </tr>\n",
       "    <tr>\n",
       "      <th>6</th>\n",
       "      <td>BB_9</td>\n",
       "      <td>-12.2</td>\n",
       "    </tr>\n",
       "    <tr>\n",
       "      <th>7</th>\n",
       "      <td>BB_39</td>\n",
       "      <td>-12.0</td>\n",
       "    </tr>\n",
       "    <tr>\n",
       "      <th>8</th>\n",
       "      <td>BB_41</td>\n",
       "      <td>-11.9</td>\n",
       "    </tr>\n",
       "    <tr>\n",
       "      <th>9</th>\n",
       "      <td>BB_42</td>\n",
       "      <td>-11.8</td>\n",
       "    </tr>\n",
       "    <tr>\n",
       "      <th>10</th>\n",
       "      <td>AGAN230</td>\n",
       "      <td>-11.5</td>\n",
       "    </tr>\n",
       "    <tr>\n",
       "      <th>11</th>\n",
       "      <td>4</td>\n",
       "      <td>-11.3</td>\n",
       "    </tr>\n",
       "    <tr>\n",
       "      <th>12</th>\n",
       "      <td>5</td>\n",
       "      <td>-11.3</td>\n",
       "    </tr>\n",
       "    <tr>\n",
       "      <th>13</th>\n",
       "      <td>BB_35</td>\n",
       "      <td>-11.1</td>\n",
       "    </tr>\n",
       "    <tr>\n",
       "      <th>14</th>\n",
       "      <td>AGAN-209</td>\n",
       "      <td>-11.0</td>\n",
       "    </tr>\n",
       "    <tr>\n",
       "      <th>15</th>\n",
       "      <td>BB_40</td>\n",
       "      <td>-10.8</td>\n",
       "    </tr>\n",
       "    <tr>\n",
       "      <th>16</th>\n",
       "      <td>BB_30</td>\n",
       "      <td>-10.7</td>\n",
       "    </tr>\n",
       "    <tr>\n",
       "      <th>17</th>\n",
       "      <td>BB_37</td>\n",
       "      <td>-10.5</td>\n",
       "    </tr>\n",
       "    <tr>\n",
       "      <th>18</th>\n",
       "      <td>AGAN406</td>\n",
       "      <td>-10.3</td>\n",
       "    </tr>\n",
       "    <tr>\n",
       "      <th>19</th>\n",
       "      <td>AGAN-407</td>\n",
       "      <td>-10.3</td>\n",
       "    </tr>\n",
       "    <tr>\n",
       "      <th>20</th>\n",
       "      <td>BB_38</td>\n",
       "      <td>-10.2</td>\n",
       "    </tr>\n",
       "    <tr>\n",
       "      <th>21</th>\n",
       "      <td>AMG650</td>\n",
       "      <td>-10.1</td>\n",
       "    </tr>\n",
       "    <tr>\n",
       "      <th>22</th>\n",
       "      <td>BB_44</td>\n",
       "      <td>-9.9</td>\n",
       "    </tr>\n",
       "  </tbody>\n",
       "</table>\n",
       "</div>"
      ],
      "text/plain": [
       "                Name  Affinity (kcal/mol)\n",
       "0   AGAN245-df-11-CN                -14.0\n",
       "1                  6                -13.4\n",
       "2   AGAN 245-df-2-CN                -13.2\n",
       "3   AGAN245-df-15-CN                -12.7\n",
       "4              BB_43                -12.6\n",
       "5              BB_36                -12.4\n",
       "6               BB_9                -12.2\n",
       "7              BB_39                -12.0\n",
       "8              BB_41                -11.9\n",
       "9              BB_42                -11.8\n",
       "10           AGAN230                -11.5\n",
       "11                 4                -11.3\n",
       "12                 5                -11.3\n",
       "13             BB_35                -11.1\n",
       "14          AGAN-209                -11.0\n",
       "15             BB_40                -10.8\n",
       "16             BB_30                -10.7\n",
       "17             BB_37                -10.5\n",
       "18           AGAN406                -10.3\n",
       "19          AGAN-407                -10.3\n",
       "20             BB_38                -10.2\n",
       "21            AMG650                -10.1\n",
       "22             BB_44                 -9.9"
      ]
     },
     "metadata": {},
     "output_type": "display_data"
    },
    {
     "name": "stdout",
     "output_type": "stream",
     "text": [
      "(23, 2)\n"
     ]
    }
   ],
   "source": [
    "with open(output_file_path, \"r\") as file:\n",
    "    output = file.read()\n",
    "\n",
    "pattern = r'Refining ligand (.+?) results.*?\\n\\s*1\\s+([-+]?\\d*\\.\\d+)\\s+\\d+\\.\\d+\\s+\\d+\\.\\d+'\n",
    "matches = re.findall(pattern, output, re.DOTALL)\n",
    "matches = [(os.path.basename(name), float(affinity)) for name, affinity in matches]\n",
    "df = pd.DataFrame(matches, columns=['Name', 'Affinity (kcal/mol)'])\n",
    "df['Affinity (kcal/mol)'] = pd.to_numeric(df['Affinity (kcal/mol)'], errors='coerce')\n",
    "df = df.sort_values(by='Affinity (kcal/mol)', ascending=True).reset_index(drop=True)\n",
    "\n",
    "display(df)\n",
    "print(df.shape)"
   ]
  },
  {
   "cell_type": "markdown",
   "id": "015defa2-72cb-4e5b-b3c0-d2927955d562",
   "metadata": {},
   "source": [
    "."
   ]
  },
  {
   "cell_type": "markdown",
   "id": "bf55cae8-a79c-464d-a802-d292c1f418fa",
   "metadata": {},
   "source": [
    "**Runtime for Docking 23 Molecules:**\n",
    "- AutoDock-Vina-**CPU** total runtime = 688.8 s\n",
    "- AutoDock-Vina-**GPU** total runtime = 64.3 s"
   ]
  }
 ],
 "metadata": {
  "kernelspec": {
   "display_name": "Python 3 (ipykernel)",
   "language": "python",
   "name": "python3"
  },
  "language_info": {
   "codemirror_mode": {
    "name": "ipython",
    "version": 3
   },
   "file_extension": ".py",
   "mimetype": "text/x-python",
   "name": "python",
   "nbconvert_exporter": "python",
   "pygments_lexer": "ipython3",
   "version": "3.8.10"
  }
 },
 "nbformat": 4,
 "nbformat_minor": 5
}
