{
 "cells": [
  {
   "cell_type": "code",
   "execution_count": 1,
   "id": "9a5e6f48-dad1-47ec-93d9-7c7ad342921a",
   "metadata": {},
   "outputs": [],
   "source": [
    "import pandas as pd\n",
    "from rdkit import Chem\n",
    "from rdkit.Chem import AllChem\n",
    "from openbabel import openbabel\n",
    "import os"
   ]
  },
  {
   "cell_type": "code",
   "execution_count": 2,
   "id": "538c162f-bc6e-4b68-a3cf-224c8f8e03a6",
   "metadata": {},
   "outputs": [
    {
     "data": {
      "text/html": [
       "<div>\n",
       "<style scoped>\n",
       "    .dataframe tbody tr th:only-of-type {\n",
       "        vertical-align: middle;\n",
       "    }\n",
       "\n",
       "    .dataframe tbody tr th {\n",
       "        vertical-align: top;\n",
       "    }\n",
       "\n",
       "    .dataframe thead th {\n",
       "        text-align: right;\n",
       "    }\n",
       "</style>\n",
       "<table border=\"1\" class=\"dataframe\">\n",
       "  <thead>\n",
       "    <tr style=\"text-align: right;\">\n",
       "      <th></th>\n",
       "      <th>Name</th>\n",
       "      <th>SMILES</th>\n",
       "    </tr>\n",
       "  </thead>\n",
       "  <tbody>\n",
       "    <tr>\n",
       "      <th>0</th>\n",
       "      <td>AMG650</td>\n",
       "      <td>CC1=CC(=NC(=N1)N2CCC(CC2)(F)F)NC(=O)C3=C(C=C(C...</td>\n",
       "    </tr>\n",
       "    <tr>\n",
       "      <th>1</th>\n",
       "      <td>BB_35</td>\n",
       "      <td>c1(c(ccc(c1)NS(CCO)(=O)=O)C(Nc1cccc(c1)N1CCC(C...</td>\n",
       "    </tr>\n",
       "    <tr>\n",
       "      <th>2</th>\n",
       "      <td>BB_40</td>\n",
       "      <td>c12ccc(cc1C1(CN2C(c2cc(ccc2)S(NC(C)(C)C)(=O)=O...</td>\n",
       "    </tr>\n",
       "    <tr>\n",
       "      <th>3</th>\n",
       "      <td>BB_36</td>\n",
       "      <td>c1(c(ncc(n1)NC(CO)(C)C)C(Nc1cccc(n1)S(NC(C)(C)...</td>\n",
       "    </tr>\n",
       "    <tr>\n",
       "      <th>4</th>\n",
       "      <td>BB_37</td>\n",
       "      <td>c12c(cc(cc1N1CCC3(CC1)CC3)NS(CCO)(=O)=O)ncnc2N...</td>\n",
       "    </tr>\n",
       "  </tbody>\n",
       "</table>\n",
       "</div>"
      ],
      "text/plain": [
       "     Name                                             SMILES\n",
       "0  AMG650  CC1=CC(=NC(=N1)N2CCC(CC2)(F)F)NC(=O)C3=C(C=C(C...\n",
       "1   BB_35  c1(c(ccc(c1)NS(CCO)(=O)=O)C(Nc1cccc(c1)N1CCC(C...\n",
       "2   BB_40  c12ccc(cc1C1(CN2C(c2cc(ccc2)S(NC(C)(C)C)(=O)=O...\n",
       "3   BB_36  c1(c(ncc(n1)NC(CO)(C)C)C(Nc1cccc(n1)S(NC(C)(C)...\n",
       "4   BB_37  c12c(cc(cc1N1CCC3(CC1)CC3)NS(CCO)(=O)=O)ncnc2N..."
      ]
     },
     "metadata": {},
     "output_type": "display_data"
    },
    {
     "name": "stdout",
     "output_type": "stream",
     "text": [
      "(23, 2)\n"
     ]
    }
   ],
   "source": [
    "df = pd.read_csv(\"aganitha_data/bbio_mols.csv\")\n",
    "\n",
    "display(df.head())\n",
    "print(df.shape)"
   ]
  },
  {
   "cell_type": "code",
   "execution_count": 3,
   "id": "b224dc3e-1db0-403f-92fa-626a3cd41b7d",
   "metadata": {},
   "outputs": [],
   "source": [
    "def convert_smiles_to_pdbqt(smiles, output_pdbqt_file):\n",
    "    \n",
    "    # Convert SMILES to 3D structure\n",
    "    mol = Chem.MolFromSmiles(smiles)\n",
    "    mol = Chem.AddHs(mol)\n",
    "    AllChem.EmbedMolecule(mol, AllChem.ETKDG())\n",
    "\n",
    "    # Convert RDKit Mol to PDB format\n",
    "    pdb_file = output_pdbqt_file.replace('.pdbqt', '.pdb')\n",
    "    with open(pdb_file, 'w') as f:\n",
    "        f.write(Chem.MolToPDBBlock(mol))\n",
    "\n",
    "    # Convert PDB to PDBQT using Open Babel\n",
    "    obConversion = openbabel.OBConversion()\n",
    "    obConversion.SetInAndOutFormats(\"pdb\", \"pdbqt\")\n",
    "    ob_mol = openbabel.OBMol()\n",
    "    if not obConversion.ReadFile(ob_mol, pdb_file):\n",
    "        raise IOError(f\"Could not read file: {pdb_file}\")\n",
    "\n",
    "    obConversion.WriteFile(ob_mol, output_pdbqt_file)\n",
    "    os.remove(pdb_file)  "
   ]
  },
  {
   "cell_type": "code",
   "execution_count": 4,
   "id": "f1edb963-8e8e-4c47-9214-35f21dc03cee",
   "metadata": {},
   "outputs": [
    {
     "name": "stdout",
     "output_type": "stream",
     "text": [
      "\u001b[1m\u001b[34mSMILES to PDBQT Conversion Completed and saved in folder: \u001b[91maganitha_data/bbio_mols_pdbqt\u001b[0m\n"
     ]
    }
   ],
   "source": [
    "output_folder = \"aganitha_data/bbio_mols_pdbqt\"\n",
    "os.makedirs(output_folder, exist_ok=True)\n",
    "for index, row in df.iterrows():\n",
    "    smiles = row[\"SMILES\"]\n",
    "    compound_name = row[\"Name\"]\n",
    "    output_pdbqt_file = os.path.join(output_folder, f\"{compound_name}.pdbqt\")\n",
    "    convert_smiles_to_pdbqt(smiles, output_pdbqt_file)\n",
    "\n",
    "print(f\"\\033[1m\\033[34mSMILES to PDBQT Conversion Completed and saved in folder: \\033[91m{output_folder}\\033[0m\")"
   ]
  }
 ],
 "metadata": {
  "kernelspec": {
   "display_name": "Python 3 (ipykernel)",
   "language": "python",
   "name": "python3"
  },
  "language_info": {
   "codemirror_mode": {
    "name": "ipython",
    "version": 3
   },
   "file_extension": ".py",
   "mimetype": "text/x-python",
   "name": "python",
   "nbconvert_exporter": "python",
   "pygments_lexer": "ipython3",
   "version": "3.8.10"
  }
 },
 "nbformat": 4,
 "nbformat_minor": 5
}
